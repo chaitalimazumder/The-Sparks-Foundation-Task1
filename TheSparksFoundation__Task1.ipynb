{
  "nbformat": 4,
  "nbformat_minor": 0,
  "metadata": {
    "colab": {
      "name": "TheSparksFoundation _Task1.ipynb",
      "provenance": [],
      "collapsed_sections": [],
      "authorship_tag": "ABX9TyPes2jr12hhEwWnInuDosYO",
      "include_colab_link": true
    },
    "kernelspec": {
      "name": "python3",
      "display_name": "Python 3"
    },
    "language_info": {
      "name": "python"
    }
  },
  "cells": [
    {
      "cell_type": "markdown",
      "metadata": {
        "id": "view-in-github",
        "colab_type": "text"
      },
      "source": [
        "<a href=\"https://colab.research.google.com/github/chaitalimazumder/The-Sparks-Foundation-Task1/blob/main/TheSparksFoundation__Task1.ipynb\" target=\"_parent\"><img src=\"https://colab.research.google.com/assets/colab-badge.svg\" alt=\"Open In Colab\"/></a>"
      ]
    },
    {
      "cell_type": "markdown",
      "metadata": {
        "id": "Kr1fetY1L3Ag"
      },
      "source": [
        "#**The Sparks Foundation**\n",
        "GRIP September 2021 Batch\n",
        "#Author: **Chaitali Mazumder**"
      ]
    },
    {
      "cell_type": "markdown",
      "metadata": {
        "id": "rn69P7GG6XZd"
      },
      "source": [
        "#**Task 1 : Prediction using Supervised Machine Learning**"
      ]
    },
    {
      "cell_type": "markdown",
      "metadata": {
        "id": "Zf6ytlUO6t4-"
      },
      "source": [
        "**1. Predict the percentage of students based on the no. of study hours.**\n",
        "\n",
        "In this task we have to find the students scores based on their study hours. This is a simple Linear Regression problem type because it has only two variables. "
      ]
    },
    {
      "cell_type": "code",
      "metadata": {
        "id": "VzYbdQpWB4F1"
      },
      "source": [
        "#Import libraries\n",
        "import pandas as pd\n",
        "from matplotlib import pyplot as plt"
      ],
      "execution_count": null,
      "outputs": []
    },
    {
      "cell_type": "code",
      "metadata": {
        "colab": {
          "base_uri": "https://localhost:8080/",
          "height": 204
        },
        "id": "uNbq6Qlo6NVF",
        "outputId": "cb636f9d-f724-46ca-d28e-24a5c562de26"
      },
      "source": [
        "#Read dataset\n",
        "url = 'https://raw.githubusercontent.com/AdiPersonalWorks/Random/master/student_scores%20-%20student_scores.csv'\n",
        "df = pd.read_csv(url)\n",
        "df.head()"
      ],
      "execution_count": null,
      "outputs": [
        {
          "output_type": "execute_result",
          "data": {
            "text/html": [
              "<div>\n",
              "<style scoped>\n",
              "    .dataframe tbody tr th:only-of-type {\n",
              "        vertical-align: middle;\n",
              "    }\n",
              "\n",
              "    .dataframe tbody tr th {\n",
              "        vertical-align: top;\n",
              "    }\n",
              "\n",
              "    .dataframe thead th {\n",
              "        text-align: right;\n",
              "    }\n",
              "</style>\n",
              "<table border=\"1\" class=\"dataframe\">\n",
              "  <thead>\n",
              "    <tr style=\"text-align: right;\">\n",
              "      <th></th>\n",
              "      <th>Hours</th>\n",
              "      <th>Scores</th>\n",
              "    </tr>\n",
              "  </thead>\n",
              "  <tbody>\n",
              "    <tr>\n",
              "      <th>0</th>\n",
              "      <td>2.5</td>\n",
              "      <td>21</td>\n",
              "    </tr>\n",
              "    <tr>\n",
              "      <th>1</th>\n",
              "      <td>5.1</td>\n",
              "      <td>47</td>\n",
              "    </tr>\n",
              "    <tr>\n",
              "      <th>2</th>\n",
              "      <td>3.2</td>\n",
              "      <td>27</td>\n",
              "    </tr>\n",
              "    <tr>\n",
              "      <th>3</th>\n",
              "      <td>8.5</td>\n",
              "      <td>75</td>\n",
              "    </tr>\n",
              "    <tr>\n",
              "      <th>4</th>\n",
              "      <td>3.5</td>\n",
              "      <td>30</td>\n",
              "    </tr>\n",
              "  </tbody>\n",
              "</table>\n",
              "</div>"
            ],
            "text/plain": [
              "   Hours  Scores\n",
              "0    2.5      21\n",
              "1    5.1      47\n",
              "2    3.2      27\n",
              "3    8.5      75\n",
              "4    3.5      30"
            ]
          },
          "metadata": {},
          "execution_count": 57
        }
      ]
    },
    {
      "cell_type": "markdown",
      "metadata": {
        "id": "pVBVJCDqB6oN"
      },
      "source": [
        "**Visualization using Scatter plot**"
      ]
    },
    {
      "cell_type": "code",
      "metadata": {
        "colab": {
          "base_uri": "https://localhost:8080/",
          "height": 295
        },
        "id": "55NRiEJvCP_u",
        "outputId": "80dbe250-6079-407c-a12b-528e526fac81"
      },
      "source": [
        "x = df['Hours']\n",
        "y = df['Scores']\n",
        "plt.scatter(x,y,label = 'Scores')\n",
        "plt.title('Hours of Study VS Scores')\n",
        "plt.xlabel('Hours of Study')\n",
        "plt.ylabel('Scores')\n",
        "plt.legend()\n",
        "plt.show()"
      ],
      "execution_count": null,
      "outputs": [
        {
          "output_type": "display_data",
          "data": {
            "image/png": "[encoded data removed]",
            "text/plain": [
              "<Figure size 432x288 with 1 Axes>"
            ]
          },
          "metadata": {
            "needs_background": "light"
          }
        }
      ]
    },
    {
      "cell_type": "markdown",
      "metadata": {
        "id": "4K_UqZMYEr5h"
      },
      "source": [
        "**Dividing data into Input(Features) and Output(Label)**"
      ]
    },
    {
      "cell_type": "code",
      "metadata": {
        "id": "efRB4j10--Df"
      },
      "source": [
        "x = df.iloc[:,:-1]    #Hours\n",
        "y = df.iloc[:,-1]     #Scores"
      ],
      "execution_count": null,
      "outputs": []
    },
    {
      "cell_type": "code",
      "metadata": {
        "colab": {
          "base_uri": "https://localhost:8080/"
        },
        "id": "XN2gLgRg_PhD",
        "outputId": "e06905e5-79ec-4746-db5f-f9f64f472ff3"
      },
      "source": [
        "print(x.shape)        #2D\n",
        "print(y.shape)        #1D"
      ],
      "execution_count": null,
      "outputs": [
        {
          "output_type": "stream",
          "name": "stdout",
          "text": [
            "(25, 1)\n",
            "(25,)\n"
          ]
        }
      ]
    },
    {
      "cell_type": "markdown",
      "metadata": {
        "id": "fGp_6I9lC9ir"
      },
      "source": [
        "**Spliting of dataset into training and testing sets**"
      ]
    },
    {
      "cell_type": "code",
      "metadata": {
        "id": "oUi89hup8A1X"
      },
      "source": [
        "import sklearn\n",
        "from sklearn.model_selection import train_test_split\n",
        "\n",
        "xtrain,xtest,ytrain,ytest = train_test_split(x,y,test_size = 0.2,random_state=1)"
      ],
      "execution_count": null,
      "outputs": []
    },
    {
      "cell_type": "markdown",
      "metadata": {
        "id": "K9bVr6erDIIO"
      },
      "source": [
        "**Creating Simple Linear Regression Model**"
      ]
    },
    {
      "cell_type": "code",
      "metadata": {
        "colab": {
          "base_uri": "https://localhost:8080/"
        },
        "id": "nN5KoYGR9ka7",
        "outputId": "5f803eef-3a8e-4203-e80a-ce7c309ad710"
      },
      "source": [
        "from sklearn.linear_model import LinearRegression\n",
        "modelLR = LinearRegression()\n",
        "modelLR.fit(xtrain,ytrain)"
      ],
      "execution_count": null,
      "outputs": [
        {
          "output_type": "execute_result",
          "data": {
            "text/plain": [
              "LinearRegression(copy_X=True, fit_intercept=True, n_jobs=None, normalize=False)"
            ]
          },
          "metadata": {},
          "execution_count": 62
        }
      ]
    },
    {
      "cell_type": "code",
      "metadata": {
        "colab": {
          "base_uri": "https://localhost:8080/"
        },
        "id": "BwjC9lI_-NPL",
        "outputId": "c72124ed-21d8-438d-99cd-6f1c6e4f4791"
      },
      "source": [
        "#Prediction\n",
        "ytest_pred = modelLR.predict(xtest)\n",
        "print(ytest_pred)"
      ],
      "execution_count": null,
      "outputs": [
        {
          "output_type": "stream",
          "name": "stdout",
          "text": [
            "[ 9.97026179 32.98470004 18.33914843 87.38246316 48.67636248]\n"
          ]
        }
      ]
    },
    {
      "cell_type": "code",
      "metadata": {
        "colab": {
          "base_uri": "https://localhost:8080/"
        },
        "id": "kyLxAp4Y-SE3",
        "outputId": "6056e734-b046-4dc0-d8a3-2514122091ac"
      },
      "source": [
        "#Actual VS Predicted Value\n",
        "newdf = pd.DataFrame({'Actual':ytest,'Predicted':ytest_pred})\n",
        "print(newdf)"
      ],
      "execution_count": null,
      "outputs": [
        {
          "output_type": "stream",
          "name": "stdout",
          "text": [
            "    Actual  Predicted\n",
            "14      17   9.970262\n",
            "13      42  32.984700\n",
            "17      24  18.339148\n",
            "3       75  87.382463\n",
            "21      54  48.676362\n"
          ]
        }
      ]
    },
    {
      "cell_type": "markdown",
      "metadata": {
        "id": "DoFbPqGYFZ8J"
      },
      "source": [
        "**Ploting Regression Line**"
      ]
    },
    {
      "cell_type": "code",
      "metadata": {
        "colab": {
          "base_uri": "https://localhost:8080/",
          "height": 265
        },
        "id": "X6yAOHJuDlVa",
        "outputId": "56c173d6-dbbb-4af6-bdd9-d8f77c567e6e"
      },
      "source": [
        "plt.scatter(xtrain,ytrain, color = 'blue')\n",
        "plt.plot(xtrain,modelLR.predict(xtrain))\n",
        "plt.show()"
      ],
      "execution_count": null,
      "outputs": [
        {
          "output_type": "display_data",
          "data": {
            "image/png": "[encoded data removed]",
            "text/plain": [
              "<Figure size 432x288 with 1 Axes>"
            ]
          },
          "metadata": {
            "needs_background": "light"
          }
        }
      ]
    },
    {
      "cell_type": "markdown",
      "metadata": {
        "id": "YtBFFeMiDebo"
      },
      "source": [
        "**Accuracy & Error**"
      ]
    },
    {
      "cell_type": "code",
      "metadata": {
        "colab": {
          "base_uri": "https://localhost:8080/"
        },
        "id": "glcRqoUk_KzA",
        "outputId": "3ba7c55f-bbc3-4773-8e23-570fb7b56a06"
      },
      "source": [
        "from sklearn.metrics import r2_score,mean_squared_error\n",
        "print(\"Accuracy :\",r2_score(ytest,ytest_pred))\n",
        "print(\"Mean Square Error :\",mean_squared_error(ytest,ytest_pred))"
      ],
      "execution_count": null,
      "outputs": [
        {
          "output_type": "stream",
          "name": "stdout",
          "text": [
            "Accuracy : 0.8421031525243527\n",
            "Mean Square Error : 68.88092074277635\n"
          ]
        }
      ]
    },
    {
      "cell_type": "code",
      "metadata": {
        "colab": {
          "base_uri": "https://localhost:8080/"
        },
        "id": "zsTPEVYYI06Q",
        "outputId": "eef963c8-b95a-4eb0-b83d-0f9f2bae5ba6"
      },
      "source": [
        "from sklearn import metrics  \n",
        "print('Mean Absolute Error:', \n",
        "      metrics.mean_absolute_error(ytest, ytest_pred)) "
      ],
      "execution_count": null,
      "outputs": [
        {
          "output_type": "stream",
          "name": "stdout",
          "text": [
            "Mean Absolute Error: 7.882398086270432\n"
          ]
        }
      ]
    },
    {
      "cell_type": "markdown",
      "metadata": {
        "id": "KQ94WQ0tGysl"
      },
      "source": [
        "**What will be predicted score if a student studies for 9.25 hours/day?**"
      ]
    },
    {
      "cell_type": "code",
      "metadata": {
        "colab": {
          "base_uri": "https://localhost:8080/"
        },
        "id": "rqVqR-0YAmZi",
        "outputId": "4234d03d-c350-406a-922e-f8e9b58edf5e"
      },
      "source": [
        "#Predicted Score\n",
        "Predicted_Score = modelLR.predict([[9.25]])\n",
        "\n",
        "print(\"No of Hours Studied=\",9.25)\n",
        "print(\"Predicted Score = \",Predicted_Score)"
      ],
      "execution_count": null,
      "outputs": [
        {
          "output_type": "stream",
          "name": "stdout",
          "text": [
            "No of Hours Studied= 9.25\n",
            "Predicted Score =  [95.22829438]\n"
          ]
        }
      ]
    }
  ]
}